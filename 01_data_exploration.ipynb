{
 "cells": [
  {
   "cell_type": "code",
   "execution_count": 45,
   "id": "e25880c4",
   "metadata": {},
   "outputs": [
    {
     "name": "stdout",
     "output_type": "stream",
     "text": [
      "title\n",
      "Forrest Gump (1994)                          329\n",
      "Shawshank Redemption, The (1994)             317\n",
      "Pulp Fiction (1994)                          307\n",
      "Silence of the Lambs, The (1991)             279\n",
      "Matrix, The (1999)                           278\n",
      "Star Wars: Episode IV - A New Hope (1977)    251\n",
      "Jurassic Park (1993)                         238\n",
      "Braveheart (1995)                            237\n",
      "Terminator 2: Judgment Day (1991)            224\n",
      "Schindler's List (1993)                      220\n",
      "Name: rating, dtype: int64\n"
     ]
    },
    {
     "data": {
      "image/png": "[encoded data removed]",
      "text/plain": [
       "<Figure size 640x480 with 1 Axes>"
      ]
     },
     "metadata": {},
     "output_type": "display_data"
    }
   ],
   "source": [
    "import pandas as pd\n",
    "import matplotlib.pyplot as plt\n",
    "import seaborn as sns\n",
    "\n",
    "# CSV dosyalarını oku\n",
    "movies = pd.read_csv('data/movies.csv')\n",
    "ratings = pd.read_csv('data/ratings.csv')\n",
    "tags = pd.read_csv('data/tags.csv')\n",
    "links = pd.read_csv('data/links.csv')\n",
    "\n",
    "# Basit içerik tabanlı öneri için movieId ve genres kullanacağız\n",
    "# Popülerlik tabanlı öneri için ratings ile birleşim yapacağız\n",
    "movie_ratings = pd.merge(ratings, movies, on='movieId')\n",
    "\n",
    "# Örnek: film başına oy sayısı\n",
    "top_movies = movie_ratings.groupby('title')['rating'].count().sort_values(ascending=False).head(10)\n",
    "print(top_movies)\n",
    "\n",
    "sns.barplot(x=top_movies.index, y=top_movies.values)\n",
    "plt.title(\"Top 10 Popüler Film\")\n",
    "plt.show()\n"
   ]
  },
  {
   "cell_type": "code",
   "execution_count": 46,
   "id": "2a3a91a3",
   "metadata": {},
   "outputs": [
    {
     "name": "stdout",
     "output_type": "stream",
     "text": [
      "Precision@5: 0.4\n",
      "Recall@5: 0.6666666666666666\n"
     ]
    }
   ],
   "source": [
    "def precision_at_k(recommended, actual, k=5):\n",
    "    recommended_k = recommended[:k]\n",
    "    relevant_items = set(actual)\n",
    "    hits = sum([1 for item in recommended_k if item in relevant_items])\n",
    "    return hits / k\n",
    "\n",
    "def recall_at_k(recommended, actual, k=5):\n",
    "    recommended_k = recommended[:k]\n",
    "    relevant_items = set(actual)\n",
    "    hits = sum([1 for item in recommended_k if item in relevant_items])\n",
    "    return hits / len(relevant_items) if relevant_items else 0\n",
    "\n",
    "# Örnek kullanım\n",
    "actual_items = [1, 2, 3]  # kullanıcı gerçekten izlediği filmler\n",
    "recommended_items = [2, 3, 4, 5, 6]  # önerilen filmler\n",
    "print(\"Precision@5:\", precision_at_k(recommended_items, actual_items, k=5))\n",
    "print(\"Recall@5:\", recall_at_k(recommended_items, actual_items, k=5))\n",
    "\n",
    "\n",
    "# Precision → Öneriler doğru mu? (% bazlı)\n",
    "# Recall → Doğru öğeleri ne kadar yakaladık? (% bazlı)\n"
   ]
  },
  {
   "cell_type": "code",
   "execution_count": 47,
   "id": "887c4201",
   "metadata": {},
   "outputs": [
    {
     "name": "stdout",
     "output_type": "stream",
     "text": [
      "[356, 318, 296, 593, 2571]\n"
     ]
    }
   ],
   "source": [
    "def popularity_based_recommender(movie_ratings, top_n=5):\n",
    "    popular_items = movie_ratings.groupby('movieId')['rating'].count().sort_values(ascending=False).head(top_n)\n",
    "    return popular_items.index.tolist()\n",
    "\n",
    "print(popularity_based_recommender(movie_ratings))\n"
   ]
  },
  {
   "cell_type": "code",
   "execution_count": 48,
   "id": "b491e138",
   "metadata": {},
   "outputs": [
    {
     "name": "stdout",
     "output_type": "stream",
     "text": [
      "Önerilen Filmler: ['Antz (1998)', 'Toy Story 2 (1999)', 'Adventures of Rocky and Bullwinkle, The (2000)', \"Emperor's New Groove, The (2000)\", 'Monsters, Inc. (2001)']\n"
     ]
    }
   ],
   "source": [
    "# İÇERİK TABANLI ÖNERİ SİSTEMİ\n",
    "\n",
    "import pandas as pd\n",
    "from sklearn.feature_extraction.text import TfidfVectorizer\n",
    "from sklearn.metrics.pairwise import cosine_similarity\n",
    "\n",
    "movies = pd.read_csv('data/movies.csv') \n",
    "\n",
    "# TF-IDF ile film türlerini vektörize et\n",
    "tfidf = TfidfVectorizer(stop_words='english')\n",
    "tfidf_matrix = tfidf.fit_transform(movies['genres'])\n",
    "\n",
    "# Cosine similarity hesapla. İki vektör arasındaki benzerliği ölçer (0–1 arası).\n",
    "cosine_sim = cosine_similarity(tfidf_matrix, tfidf_matrix)\n",
    "# Cosine similarity = iki vektör arasındaki açının kosinüsü.\n",
    "# Sonuç: NxN bir matris, N = film sayısı.\n",
    "# cosine_sim[i][j] → i. ve j. film arasındaki benzerlik (0–1 arası).\n",
    "\n",
    "# Film indexi ile eşleştirme\n",
    "indices = pd.Series(movies.index, index=movies['title']).drop_duplicates()\n",
    "\n",
    "# Öneri fonksiyonu\n",
    "def content_based_recommender(title, top_n=5):\n",
    "    idx = indices[title]\n",
    "    sim_scores = list(enumerate(cosine_sim[idx]))\n",
    "    sim_scores = sorted(sim_scores, key=lambda x: x[1], reverse=True)\n",
    "    sim_scores = sim_scores[1:top_n+1]  # kendini çıkar\n",
    "    movie_indices = [i[0] for i in sim_scores]\n",
    "    return movies['title'].iloc[movie_indices].tolist()\n",
    "\n",
    "# Örnek kullanım\n",
    "print(\"Önerilen Filmler:\", content_based_recommender(\"Toy Story (1995)\"))\n",
    "\n",
    "\n",
    "# TF-IDF: Film türlerini metin olarak vektörize eder.\n",
    "# Cosine Similarity: Filmler arasındaki benzerliği hesaplar.\n",
    "# Öneri Fonksiyonu: Verilen bir filme benzer top_n filmi listeler."
   ]
  },
  {
   "cell_type": "code",
   "execution_count": 49,
   "id": "6ccf6ab5",
   "metadata": {},
   "outputs": [],
   "source": [
    "# İşbirlikçi Filtreleme (Collaborative Filtering)\n",
    "\n",
    "# Kullanıcıların benzerliklerine göre tahmin yapma fikrine dayanır.\n",
    "# En bilinen yöntem: Matris Faktörizasyonu (SVD)"
   ]
  },
  {
   "cell_type": "code",
   "execution_count": 50,
   "id": "cf5b6181",
   "metadata": {},
   "outputs": [
    {
     "name": "stdout",
     "output_type": "stream",
     "text": [
      "(610, 9719)\n"
     ]
    }
   ],
   "source": [
    "import pandas as pd\n",
    "import numpy as np\n",
    "\n",
    "# ratings ve movies CSV'lerini oku\n",
    "ratings = pd.read_csv('data/ratings.csv')  # userId, movieId, rating, timestamp\n",
    "movies = pd.read_csv('data/movies.csv')    # movieId, title, genres\n",
    "\n",
    "# Film isimlerini ratings ile birleştir\n",
    "movie_ratings = pd.merge(ratings, movies, on='movieId')\n",
    "\n",
    "# Kullanıcı-Ürün matrisi oluştur\n",
    "user_item_matrix = movie_ratings.pivot_table(index='userId', columns='title', values='rating').fillna(0)\n",
    "#pivot_table → kullanıcıları satırlara, filmleri sütunlara, puanları hücrelere yerleştirir.\n",
    "#fillna(0) → kullanıcı filmleri izlemediyse 0 koyar.\n",
    "print(user_item_matrix.shape)\n"
   ]
  },
  {
   "cell_type": "code",
   "execution_count": 51,
   "id": "70c99160",
   "metadata": {},
   "outputs": [],
   "source": [
    "from numpy.linalg import svd\n",
    "\n",
    "# Kullanıcı-Ürün matrisi (NumPy array)\n",
    "R = user_item_matrix.values\n",
    "\n",
    "# Ortalama çıkarma (centered)\n",
    "user_ratings_mean = np.mean(R, axis=1)\n",
    "R_demeaned = R - user_ratings_mean.reshape(-1, 1)\n",
    "\n",
    "# SVD → Kullanıcı ve film özelliklerini düşük boyutlu vektörlere ayırır.\n",
    "U, sigma, Vt = np.linalg.svd(R_demeaned, full_matrices=False)\n",
    "\n",
    "# sigma matrisini diagonal hale getir\n",
    "sigma = np.diag(sigma)\n",
    "\n",
    "# Yaklaşık kullanıcı-filme tahmin matrisi\n",
    "all_user_predicted_ratings = np.dot(np.dot(U, sigma), Vt) + user_ratings_mean.reshape(-1, 1)\n",
    "preds_df = pd.DataFrame(all_user_predicted_ratings, columns=user_item_matrix.columns, index=user_item_matrix.index)\n",
    "#Tahmin matrisi preds_df → Her kullanıcının her film için tahmini puanı."
   ]
  },
  {
   "cell_type": "code",
   "execution_count": 52,
   "id": "750abe45",
   "metadata": {},
   "outputs": [
    {
     "name": "stdout",
     "output_type": "stream",
     "text": [
      "Kullanıcı 1 için önerilen filmler: ['Terminator 2: Judgment Day (1991)', 'Aliens (1986)', 'Casablanca (1942)', 'Twelve Monkeys (a.k.a. 12 Monkeys) (1995)', 'In the Line of Fire (1993)']\n"
     ]
    }
   ],
   "source": [
    "#Kullanıcıya film önerme methodu\n",
    "\n",
    "# ratings ile movies.csv'i birleştir\n",
    "ratings_with_titles = pd.merge(ratings, movies[['movieId','title']], on='movieId')\n",
    "\n",
    "def collaborative_recommender(preds_df, user_id, movies_df, original_ratings, top_n=5):\n",
    "    # Tahminleri sırala\n",
    "    user_row = preds_df.loc[user_id].sort_values(ascending=False)\n",
    "    \n",
    "    # Kullanıcının zaten izlediği filmleri çıkar\n",
    "    watched_movies = original_ratings[original_ratings.userId == user_id]['title'].tolist()\n",
    "    recommendations = user_row.drop(labels=watched_movies).head(top_n).index.tolist()\n",
    "    \n",
    "    return recommendations\n",
    "\n",
    "# Örnek kullanım\n",
    "user_id = 1\n",
    "recommended_movies = collaborative_recommender(preds_df, user_id, movies, ratings_with_titles, top_n=5)\n",
    "print(f\"Kullanıcı {user_id} için önerilen filmler:\", recommended_movies)\n",
    "\n",
    "#Kullanıcının izlediği filmler çıkarılıyor, böylece yeni filmler öneriliyor.\n",
    "#top_n=5 → ilk 5 öneriyi alıyoruz.\n"
   ]
  },
  {
   "cell_type": "code",
   "execution_count": 54,
   "id": "550ec860",
   "metadata": {},
   "outputs": [
    {
     "name": "stdout",
     "output_type": "stream",
     "text": [
      "['Antz (1998)', 'Toy Story 2 (1999)', 'Adventures of Rocky and Bullwinkle, The (2000)', \"Emperor's New Groove, The (2000)\", 'Monsters, Inc. (2001)']\n"
     ]
    }
   ],
   "source": [
    "# Hibrit Sistem – İçerik + İşbirlikçi\n",
    "# Basit yöntem: içerik tabanlı önerilerden ve işbirlikçi önerilerden ortak bir skor oluştur.\n",
    "\n",
    "def hybrid_recommender(user_id, title, top_n=5, alpha=0.5):\n",
    "    # İçerik tabanlı öneriler\n",
    "    content_recs = content_based_recommender(title, top_n=top_n*2)\n",
    "    \n",
    "    # İşbirlikçi öneriler\n",
    "    collab_recs = collaborative_recommender(preds_df, user_id, movies, ratings_with_titles, top_n=top_n*2)\n",
    "    \n",
    "    # Basit birleştirme: ilk top_n ortak veya sırayla\n",
    "    combined = list(dict.fromkeys(content_recs + collab_recs))[:top_n]\n",
    "    return combined\n",
    "\n",
    "# Örnek kullanım\n",
    "print(hybrid_recommender(user_id=1, title=\"Toy Story (1995)\", top_n=5))\n",
    "\n",
    "# alpha parametresiyle ağırlık verebiliriz (daha gelişmiş versiyonda).\n",
    "# Şu anda basit bir birleştirme yöntemi ile hibrit öneri oluşturduk.\n"
   ]
  },
  {
   "cell_type": "code",
   "execution_count": 55,
   "id": "f9e59ac2",
   "metadata": {},
   "outputs": [],
   "source": [
    "# Özet Mantık\n",
    "\n",
    "# Kullanıcı-Ürün Matrisi → Kullanıcıların filmleri nasıl puanladığını gösterir.\n",
    "# SVD → Kullanıcı ve film özelliklerini öğrenir, bilinmeyen puanları tahmin eder.\n",
    "# İşbirlikçi öneri → Kullanıcının ilgi duyacağı filmleri tahminler üzerinden seçer.\n",
    "# Hibrit öneri → İçerik ve işbirlikçi önerileri birleştirir, daha iyi sonuç verir."
   ]
  },
  {
   "cell_type": "code",
   "execution_count": 1,
   "id": "c6da96be",
   "metadata": {},
   "outputs": [],
   "source": [
    "# Hedef:\n",
    "# Modelimizin performansını ölçmek için başarı metriklerini (Precision@K, Recall@K, NDCG) uygulamak.\n",
    "# Bunu yaparken:\n",
    "# Eğitim/validasyon splitini kullanacağız.\n",
    "# Kullanıcı bazlı öneriler üreteceğiz.\n",
    "# Her kullanıcı için tahmin edilen öneriler ile gerçek etkileşimleri kıyaslayacağız."
   ]
  },
  {
   "cell_type": "code",
   "execution_count": 4,
   "id": "76df6797",
   "metadata": {},
   "outputs": [],
   "source": [
    "import pandas as pd\n",
    "\n",
    "# Örnek: kullanıcıların verdiği puanlar\n",
    "ratings = pd.read_csv(\"data/ratings.csv\")  # userId, movieId, rating\n",
    "movies = pd.read_csv(\"data/movies.csv\")    # movieId, title, genres\n",
    "\n",
    "# Pozitif etkileşim: rating >= 4 olanlar\n",
    "user_positive = ratings[ratings[\"rating\"] >= 4]\n"
   ]
  },
  {
   "cell_type": "code",
   "execution_count": null,
   "id": "5eb91c5d",
   "metadata": {},
   "outputs": [],
   "source": [
    "# movieId -> index map\n",
    "movieId_to_idx = pd.Series(movies.index, index=movies[\"movieId\"]).to_dict()\n",
    "idx_to_movieId = pd.Series(movies[\"movieId\"], index=movies.index).to_dict()"
   ]
  },
  {
   "cell_type": "code",
   "execution_count": null,
   "id": "41b1c5ae",
   "metadata": {},
   "outputs": [],
   "source": [
    "def recommend(movie_id, model, k=10):\n",
    "    \"\"\"movieId alır, cosine similarity matrisinden benzer filmleri döndürür\"\"\"\n",
    "    if movie_id not in movieId_to_idx:  #movie_id: Kullanıcının izlediği film (referans film).\n",
    "        return []  # eğer film yoksa boş öneri\n",
    "    idx = movieId_to_idx[movie_id]  # movieId → index\n",
    "    scores = list(enumerate(model[idx]))  #enumerate(model[movie_id]) → Tüm diğer filmler ile benzerlik skorlarını alır.\n",
    "    scores = sorted(scores, key=lambda x: x[1], reverse=True) #Benzerlik skoruna göre büyükten küçüğe sırala.\n",
    "    rec_indices = [i[0] for i in scores[1:k+1]] #Kendisi hariç top K öneri al.\n",
    "    return [idx_to_movieId[i] for i in rec_indices]  # index → movieId\n",
    "\n",
    "# model → Cosine similarity matrisi veya benzerlik matrisi.\n",
    "# Çıktı: Önerilen film indeksleri listesi."
   ]
  },
  {
   "cell_type": "code",
   "execution_count": 10,
   "id": "a460a063",
   "metadata": {},
   "outputs": [],
   "source": [
    "from sklearn.feature_extraction.text import TfidfVectorizer\n",
    "from sklearn.metrics.pairwise import cosine_similarity\n",
    "import pandas as pd\n",
    "\n",
    "movies = pd.read_csv(\"data/movies.csv\")\n",
    "\n",
    "# Türleri TF-IDF ile sayısallaştır\n",
    "tfidf = TfidfVectorizer(stop_words='english')\n",
    "tfidf_matrix = tfidf.fit_transform(movies['genres'])\n",
    "\n",
    "# Cosine similarity matrisi\n",
    "cosine_sim = cosine_similarity(tfidf_matrix, tfidf_matrix)\n"
   ]
  },
  {
   "cell_type": "code",
   "execution_count": null,
   "id": "9cb670be",
   "metadata": {},
   "outputs": [],
   "source": [
    "# Precision@K ve Recall@K\n",
    "# Her kullanıcı için hesapla → ortalama al.\n",
    "def precision_recall_at_k(user_id, k=10):\n",
    "    # Kullanıcının beğendiği filmler\n",
    "    true_items = set(user_positive[user_positive[\"userId\"] == user_id][\"movieId\"])  #true_items:Kullanıcının gerçekten sevdiği filmler (ground truth).\n",
    "    if not true_items:\n",
    "        return None, None\n",
    "    \n",
    "    # İlk beğendiği filmden öneriler al\n",
    "    first_movie = list(true_items)[0]\n",
    "    recs = recommend(first_movie, cosine_sim, k) #Modelin önerdiği filmler.\n",
    "    if not recs:\n",
    "        return None, None\n",
    "    \n",
    "    hits = len(set(recs) & true_items)\n",
    "    precision = hits / k\n",
    "    recall = hits / len(true_items)\n",
    "    return precision, recall\n",
    "\n",
    "# Precision: Önerilen filmlerin kaç tanesi doğru (hits/k).\n",
    "# Recall: Kullanıcının sevdiği filmlerin kaçını yakaladık (hits/len(true_items))."
   ]
  },
  {
   "cell_type": "code",
   "execution_count": 16,
   "id": "63ee1c3d",
   "metadata": {},
   "outputs": [
    {
     "name": "stdout",
     "output_type": "stream",
     "text": [
      "Precision@10: 0.07339901477832513\n",
      "Recall@10: 0.02180053918535216\n"
     ]
    }
   ],
   "source": [
    "precisions, recalls = [], []\n",
    "for user in ratings[\"userId\"].unique():\n",
    "    p, r = precision_recall_at_k(user, k=10)\n",
    "    if p is not None:\n",
    "        precisions.append(p)\n",
    "        recalls.append(r)\n",
    "\n",
    "print(\"Precision@10:\", sum(precisions)/len(precisions))\n",
    "print(\"Recall@10:\", sum(recalls)/len(recalls))\n",
    "\n",
    "# Her kullanıcı için Precision ve Recall hesaplanıyor.\n",
    "# Ortalama alınarak modelin genel başarısı ölçülüyor."
   ]
  },
  {
   "cell_type": "code",
   "execution_count": null,
   "id": "42d0b1fb",
   "metadata": {},
   "outputs": [
    {
     "name": "stdout",
     "output_type": "stream",
     "text": [
      "NDCG@10: 0.28571472959675925\n"
     ]
    }
   ],
   "source": [
    "#NDCG, önerilen listenin sıralamasını dikkate alır.\n",
    "import numpy as np\n",
    "\n",
    "def ndcg_at_k(user_id, k=10):\n",
    "    true_items = set(user_positive[user_positive[\"userId\"] == user_id][\"movieId\"])\n",
    "    if not true_items:\n",
    "        return None\n",
    "    \n",
    "    first_movie = list(true_items)[0]\n",
    "    recs = recommend(first_movie, cosine_sim, k)\n",
    "\n",
    "    gains = [1 if item in true_items else 0 for item in recs]  #gains:Önerilen filmlerin ground truth ile eşleşip eşleşmediğini 1 veya 0 ile gösterir.\n",
    "    dcg = sum([g / np.log2(i+2) for i, g in enumerate(gains)]) #dcg: Discounted Cumulative Gain: Önerilerin sıralamasına göre değer verir.\n",
    "\n",
    "    ideal_gains = sorted(gains, reverse=True)\n",
    "    idcg = sum([g / np.log2(i+2) for i, g in enumerate(ideal_gains)]) #idcg:Ideal DCG: En iyi sıralamada olsaydı maksimum değer.\n",
    "    \n",
    "    return dcg / idcg if idcg > 0 else 0\n",
    "\n",
    "ndcgs = []\n",
    "for user in ratings[\"userId\"].unique():\n",
    "    n = ndcg_at_k(user, k=10)\n",
    "    if n is not None:\n",
    "        ndcgs.append(n)\n",
    "\n",
    "print(\"NDCG@10:\", sum(ndcgs)/len(ndcgs))\n",
    "\n",
    "# NDCG → dcg / idcg → Sıralama doğruluğunu ölçer (0–1 arası)."
   ]
  },
  {
   "cell_type": "code",
   "execution_count": null,
   "id": "482c839a",
   "metadata": {},
   "outputs": [],
   "source": []
  }
 ],
 "metadata": {
  "kernelspec": {
   "display_name": "Python 3",
   "language": "python",
   "name": "python3"
  },
  "language_info": {
   "codemirror_mode": {
    "name": "ipython",
    "version": 3
   },
   "file_extension": ".py",
   "mimetype": "text/x-python",
   "name": "python",
   "nbconvert_exporter": "python",
   "pygments_lexer": "ipython3",
   "version": "3.13.3"
  }
 },
 "nbformat": 4,
 "nbformat_minor": 5
}
